{
 "cells": [
  {
   "cell_type": "markdown",
   "metadata": {},
   "source": [
    "Importing Spark Context and Spark Conf from pyspark,\n",
    "Importing Spark Session from pyspark.sql,\n",
    "Importing np from numpy, \n",
    "importing operator"
   ]
  },
  {
   "cell_type": "code",
   "execution_count": 1,
   "metadata": {},
   "outputs": [],
   "source": [
    "from pyspark import SparkContext, SparkConf \n",
    "import numpy as np \n",
    "import operator"
   ]
  },
  {
   "cell_type": "markdown",
   "metadata": {},
   "source": [
    "Creating a Spark Context with Application name and master core"
   ]
  },
  {
   "cell_type": "code",
   "execution_count": 2,
   "metadata": {},
   "outputs": [],
   "source": [
    "conf=SparkConf().setAppName(\"Lab4-rdd\").setMaster(\"local[*]\")\n",
    "sc = SparkContext(conf=conf)"
   ]
  },
  {
   "cell_type": "markdown",
   "metadata": {},
   "source": [
    "Importing gzip, opening the cite75_99.txt gzip file and reading the gzip file and writing it to RDD.  "
   ]
  },
  {
   "cell_type": "code",
   "execution_count": 3,
   "metadata": {},
   "outputs": [],
   "source": [
    "import gzip\n",
    "with gzip.open('cite75_99.txt.gz', 'r') as f:\n",
    "    rddCitations = sc.parallelize( f.readlines()[-200000:] )"
   ]
  },
  {
   "cell_type": "markdown",
   "metadata": {},
   "source": [
    "Importing gzip, opening the patent gzip file and reading the gzip file and writing it to RDD.  "
   ]
  },
  {
   "cell_type": "code",
   "execution_count": 4,
   "metadata": {},
   "outputs": [],
   "source": [
    "with gzip.open('apat63_99.txt.gz','r') as f:\n",
    "    rddPatents = sc.parallelize( f.readlines()[-2000000:] ) "
   ]
  },
  {
   "cell_type": "markdown",
   "metadata": {},
   "source": [
    "Converting the rddCitation file in byte format to string format "
   ]
  },
  {
   "cell_type": "code",
   "execution_count": 5,
   "metadata": {},
   "outputs": [],
   "source": [
    "x = rddCitations.map(lambda x: x.decode('utf-8'))"
   ]
  },
  {
   "cell_type": "markdown",
   "metadata": {},
   "source": [
    "Converting the rddPatents file in byte format to string format"
   ]
  },
  {
   "cell_type": "code",
   "execution_count": 6,
   "metadata": {},
   "outputs": [],
   "source": [
    "y = rddPatents.map(lambda x: x.decode('utf-8'))"
   ]
  },
  {
   "cell_type": "markdown",
   "metadata": {},
   "source": [
    "Splitting the string citation file by ',' and stripping of the leading and trailing white spaces"
   ]
  },
  {
   "cell_type": "code",
   "execution_count": 7,
   "metadata": {},
   "outputs": [],
   "source": [
    "split_cit = x.map(lambda y: y.strip().split(','))"
   ]
  },
  {
   "cell_type": "markdown",
   "metadata": {},
   "source": [
    "Splitting the string patent file by ',' and stripping of the leading and trailing white spaces, filtering out the null spaces present in the state column and considering only 1st and 5th column"
   ]
  },
  {
   "cell_type": "code",
   "execution_count": 8,
   "metadata": {},
   "outputs": [],
   "source": [
    "split_pat = y.map(lambda x: x.strip().split(','))\\\n",
    "            .filter(lambda y: y[5] != '\"\"')\\\n",
    "            .map(lambda y: (y[0], y[5]))\n"
   ]
  },
  {
   "cell_type": "markdown",
   "metadata": {},
   "source": [
    "Splitting the string patent file by ',' and stripping of the leading and trailing white spaces to be taken into consideration at the last"
   ]
  },
  {
   "cell_type": "code",
   "execution_count": 9,
   "metadata": {},
   "outputs": [],
   "source": [
    "split_pat1 = y.map(lambda x: x.strip().split(','))"
   ]
  },
  {
   "cell_type": "markdown",
   "metadata": {},
   "source": [
    "Testing the display of the variable assigned above"
   ]
  },
  {
   "cell_type": "code",
   "execution_count": 10,
   "metadata": {},
   "outputs": [
    {
     "data": {
      "text/plain": [
       "[['3997606',\n",
       "  '1976',\n",
       "  '6192',\n",
       "  '1975',\n",
       "  '\"US\"',\n",
       "  '\"IL\"',\n",
       "  '391745',\n",
       "  '2',\n",
       "  '2',\n",
       "  '564',\n",
       "  '1',\n",
       "  '14',\n",
       "  '10',\n",
       "  '7',\n",
       "  '1',\n",
       "  '0.6122',\n",
       "  '0.18',\n",
       "  '4.1429',\n",
       "  '3',\n",
       "  '0.1111',\n",
       "  '0.1',\n",
       "  '0.1429',\n",
       "  '0.1429'],\n",
       " ['3997607',\n",
       "  '1976',\n",
       "  '6192',\n",
       "  '1975',\n",
       "  '\"NL\"',\n",
       "  '\"\"',\n",
       "  '540060',\n",
       "  '3',\n",
       "  '8',\n",
       "  '564',\n",
       "  '1',\n",
       "  '14',\n",
       "  '0',\n",
       "  '0',\n",
       "  '',\n",
       "  '',\n",
       "  '',\n",
       "  '',\n",
       "  '',\n",
       "  '',\n",
       "  '',\n",
       "  '',\n",
       "  ''],\n",
       " ['3997608',\n",
       "  '1976',\n",
       "  '6192',\n",
       "  '1975',\n",
       "  '\"US\"',\n",
       "  '\"WI\"',\n",
       "  '475045',\n",
       "  '2',\n",
       "  '7',\n",
       "  '564',\n",
       "  '1',\n",
       "  '14',\n",
       "  '1',\n",
       "  '6',\n",
       "  '1',\n",
       "  '0.7778',\n",
       "  '0',\n",
       "  '9',\n",
       "  '1',\n",
       "  '0',\n",
       "  '0',\n",
       "  '0',\n",
       "  '0'],\n",
       " ['3997609',\n",
       "  '1976',\n",
       "  '6192',\n",
       "  '1974',\n",
       "  '\"DE\"',\n",
       "  '\"\"',\n",
       "  '254145',\n",
       "  '3',\n",
       "  '7',\n",
       "  '564',\n",
       "  '1',\n",
       "  '14',\n",
       "  '3',\n",
       "  '4',\n",
       "  '0.6667',\n",
       "  '0.625',\n",
       "  '0',\n",
       "  '11.75',\n",
       "  '8.3333',\n",
       "  '0.5',\n",
       "  '0.3333',\n",
       "  '0',\n",
       "  '0']]"
      ]
     },
     "execution_count": 10,
     "metadata": {},
     "output_type": "execute_result"
    }
   ],
   "source": [
    "split_pat1.take(4)"
   ]
  },
  {
   "cell_type": "code",
   "execution_count": 11,
   "metadata": {},
   "outputs": [
    {
     "data": {
      "text/plain": [
       "[['5991301', '5394398']]"
      ]
     },
     "execution_count": 11,
     "metadata": {},
     "output_type": "execute_result"
    }
   ],
   "source": [
    "split_cit.take(1)"
   ]
  },
  {
   "cell_type": "markdown",
   "metadata": {},
   "source": [
    "Switching the citation and cited by using the lambda fucntion "
   ]
  },
  {
   "cell_type": "code",
   "execution_count": 12,
   "metadata": {},
   "outputs": [],
   "source": [
    "split_cited = split_cit.map(lambda y : (y[1],y[0]))"
   ]
  },
  {
   "cell_type": "markdown",
   "metadata": {},
   "source": [
    "Joining split_cited database and split_pat database and storing it in variable cited_pat in RDD form."
   ]
  },
  {
   "cell_type": "code",
   "execution_count": 13,
   "metadata": {},
   "outputs": [],
   "source": [
    "cited_pat = split_cited.join(split_pat)"
   ]
  },
  {
   "cell_type": "code",
   "execution_count": 14,
   "metadata": {},
   "outputs": [
    {
     "data": {
      "text/plain": [
       "[('5485455', ('5991301', '\"NH\"')),\n",
       " ('5485455', ('5996019', '\"NH\"')),\n",
       " ('5485455', ('5999541', '\"NH\"')),\n",
       " ('5485455', ('6002667', '\"NH\"')),\n",
       " ('5485455', ('6002689', '\"NH\"'))]"
      ]
     },
     "execution_count": 14,
     "metadata": {},
     "output_type": "execute_result"
    }
   ],
   "source": [
    "cited_pat.take (5)"
   ]
  },
  {
   "cell_type": "markdown",
   "metadata": {},
   "source": [
    "Sorting cited_pat by the second element and storing it in variable cited_pat_sort"
   ]
  },
  {
   "cell_type": "code",
   "execution_count": 15,
   "metadata": {},
   "outputs": [],
   "source": [
    "cited_pat_sort = cited_pat.sortBy(lambda x : x[1])"
   ]
  },
  {
   "cell_type": "markdown",
   "metadata": {},
   "source": [
    "Joining the cited_pat_sort with split_pat dataset as the data sets dervied above, sorting it by the Key and storing it in intermediate table"
   ]
  },
  {
   "cell_type": "code",
   "execution_count": 16,
   "metadata": {},
   "outputs": [],
   "source": [
    "inter = cited_pat_sort.join(split_pat).sortBy(lambda x: x[0])"
   ]
  },
  {
   "cell_type": "markdown",
   "metadata": {},
   "source": [
    "Taking the first values of intermediate table and displaying it"
   ]
  },
  {
   "cell_type": "code",
   "execution_count": 17,
   "metadata": {},
   "outputs": [
    {
     "data": {
      "text/plain": [
       "[('3997618', (('6008425', '\"NJ\"'), '\"NJ\"')),\n",
       " ('3997620', (('6005153', '\"IL\"'), '\"IL\"')),\n",
       " ('3997620', (('6008424', '\"IL\"'), '\"IL\"')),\n",
       " ('3997621', (('6002061', '\"NJ\"'), '\"NJ\"')),\n",
       " ('3997621', (('6004256', '\"NJ\"'), '\"NJ\"'))]"
      ]
     },
     "execution_count": 17,
     "metadata": {},
     "output_type": "execute_result"
    }
   ],
   "source": [
    "inter.take(5)"
   ]
  },
  {
   "cell_type": "markdown",
   "metadata": {},
   "source": [
    "Filtering out the same state citation using the lambda function and keeping a count by the key."
   ]
  },
  {
   "cell_type": "code",
   "execution_count": 18,
   "metadata": {},
   "outputs": [],
   "source": [
    "final_count = inter.filter(lambda x : x[1][0][1] == x[1][1]).countByKey()"
   ]
  },
  {
   "cell_type": "markdown",
   "metadata": {},
   "source": [
    "sorting the final by the count in descending order and storing it in variable count_final"
   ]
  },
  {
   "cell_type": "code",
   "execution_count": 19,
   "metadata": {},
   "outputs": [],
   "source": [
    "count_final = sorted(final_count.items(), key=lambda x: x[1], reverse=True)"
   ]
  },
  {
   "cell_type": "markdown",
   "metadata": {},
   "source": [
    "Converting the list to RDD datatset "
   ]
  },
  {
   "cell_type": "code",
   "execution_count": 20,
   "metadata": {},
   "outputs": [],
   "source": [
    "rddcount = sc.parallelize(count_final)"
   ]
  },
  {
   "cell_type": "markdown",
   "metadata": {},
   "source": [
    "Displaying the top 10 counts in descending order for patents having same state citations"
   ]
  },
  {
   "cell_type": "code",
   "execution_count": 21,
   "metadata": {},
   "outputs": [
    {
     "data": {
      "text/plain": [
       "[('4683202', 16),\n",
       " ('4683195', 15),\n",
       " ('5572643', 14),\n",
       " ('4418068', 10),\n",
       " ('5333266', 10),\n",
       " ('5585479', 10),\n",
       " ('4133814', 9),\n",
       " ('4340563', 9),\n",
       " ('5313454', 9),\n",
       " ('5367328', 9)]"
      ]
     },
     "execution_count": 21,
     "metadata": {},
     "output_type": "execute_result"
    }
   ],
   "source": [
    "rddcount.take(10)"
   ]
  },
  {
   "cell_type": "markdown",
   "metadata": {},
   "source": [
    "sorting the final by the count in ascending order and storing it in variable count_final1"
   ]
  },
  {
   "cell_type": "code",
   "execution_count": 22,
   "metadata": {},
   "outputs": [],
   "source": [
    "count_final1 = sorted(final_count.items(), key=lambda x: x[1], reverse=False)"
   ]
  },
  {
   "cell_type": "markdown",
   "metadata": {},
   "source": [
    "Converting the list to RDD datatset "
   ]
  },
  {
   "cell_type": "code",
   "execution_count": 23,
   "metadata": {},
   "outputs": [],
   "source": [
    "rddcount1 = sc.parallelize(count_final1)"
   ]
  },
  {
   "cell_type": "markdown",
   "metadata": {},
   "source": [
    "Add the count to the patent database as mentioned in the sample output"
   ]
  },
  {
   "cell_type": "code",
   "execution_count": 24,
   "metadata": {},
   "outputs": [
    {
     "data": {
      "text/plain": [
       "PythonRDD[43] at RDD at PythonRDD.scala:53"
      ]
     },
     "execution_count": 24,
     "metadata": {},
     "output_type": "execute_result"
    }
   ],
   "source": [
    "split_pat1.join(rddcount1).cache()"
   ]
  },
  {
   "cell_type": "code",
   "execution_count": null,
   "metadata": {},
   "outputs": [],
   "source": []
  }
 ],
 "metadata": {
  "kernelspec": {
   "display_name": "Python 3",
   "language": "python",
   "name": "python3"
  },
  "language_info": {
   "codemirror_mode": {
    "name": "ipython",
    "version": 3
   },
   "file_extension": ".py",
   "mimetype": "text/x-python",
   "name": "python",
   "nbconvert_exporter": "python",
   "pygments_lexer": "ipython3",
   "version": "3.6.7"
  }
 },
 "nbformat": 4,
 "nbformat_minor": 2
}
