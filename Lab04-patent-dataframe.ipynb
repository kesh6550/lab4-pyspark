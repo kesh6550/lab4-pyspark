{
 "cells": [
  {
   "cell_type": "markdown",
   "metadata": {},
   "source": [
    "Importing Spark Context and Spark Conf from pyspark,\n",
    "Importing Spark Session from pyspark.sql,\n",
    "Importing np from numpy, \n",
    "Importing pd from pandas and\n",
    "importing operator"
   ]
  },
  {
   "cell_type": "code",
   "execution_count": 1,
   "metadata": {},
   "outputs": [],
   "source": [
    "from pyspark import SparkContext, SparkConf\n",
    "from pyspark.sql import SparkSession\n",
    "import numpy as np\n",
    "import pandas as pd\n",
    "import operator"
   ]
  },
  {
   "cell_type": "markdown",
   "metadata": {},
   "source": [
    "Importing column, count and distinct count from pyspark.sql.functions"
   ]
  },
  {
   "cell_type": "code",
   "execution_count": 2,
   "metadata": {},
   "outputs": [],
   "source": [
    "from pyspark.sql.functions import col, count, countDistinct"
   ]
  },
  {
   "cell_type": "markdown",
   "metadata": {},
   "source": [
    "Creating a spark session with builder, application name and master core"
   ]
  },
  {
   "cell_type": "code",
   "execution_count": 3,
   "metadata": {},
   "outputs": [],
   "source": [
    "spark = SparkSession\\\n",
    "        .builder\\\n",
    "        .appName(\"Lab4-DataFrame\")\\\n",
    "        .master(\"local[*]\")\\\n",
    "        .getOrCreate()"
   ]
  },
  {
   "cell_type": "markdown",
   "metadata": {},
   "source": [
    "Read in the citations and patents data and check that the data makes sense"
   ]
  },
  {
   "cell_type": "code",
   "execution_count": 4,
   "metadata": {},
   "outputs": [],
   "source": [
    "citations = spark.read.load ('cite75_99.txt.gz', \n",
    "                    format = \"csv\", sep = \",\", header = True,\n",
    "                             compression = \"gzip\", inferSchema = \"true\"\n",
    "                            )"
   ]
  },
  {
   "cell_type": "code",
   "execution_count": 5,
   "metadata": {},
   "outputs": [
    {
     "name": "stdout",
     "output_type": "stream",
     "text": [
      "+-------+-------+\n",
      "| CITING|  CITED|\n",
      "+-------+-------+\n",
      "|3858241| 956203|\n",
      "|3858241|1324234|\n",
      "|3858241|3398406|\n",
      "|3858241|3557384|\n",
      "|3858241|3634889|\n",
      "+-------+-------+\n",
      "only showing top 5 rows\n",
      "\n"
     ]
    }
   ],
   "source": [
    "citations.show(5)\n"
   ]
  },
  {
   "cell_type": "code",
   "execution_count": 6,
   "metadata": {},
   "outputs": [],
   "source": [
    "patents = spark.read.load('apat63_99.txt.gz',\n",
    "            format=\"csv\", sep=\",\", header=True,\n",
    "            compression=\"gzip\",\n",
    "            inferSchema=\"true\")"
   ]
  },
  {
   "cell_type": "code",
   "execution_count": 7,
   "metadata": {},
   "outputs": [
    {
     "name": "stdout",
     "output_type": "stream",
     "text": [
      "+-------+-----+-----+-------+-------+-------+--------+-------+------+------+---+------+-----+--------+--------+-------+--------+--------+--------+--------+--------+--------+--------+\n",
      "| PATENT|GYEAR|GDATE|APPYEAR|COUNTRY|POSTATE|ASSIGNEE|ASSCODE|CLAIMS|NCLASS|CAT|SUBCAT|CMADE|CRECEIVE|RATIOCIT|GENERAL|ORIGINAL|FWDAPLAG|BCKGTLAG|SELFCTUB|SELFCTLB|SECDUPBD|SECDLWBD|\n",
      "+-------+-----+-----+-------+-------+-------+--------+-------+------+------+---+------+-----+--------+--------+-------+--------+--------+--------+--------+--------+--------+--------+\n",
      "|3070801| 1963| 1096|   null|     BE|   null|    null|      1|  null|   269|  6|    69| null|       1|    null|    0.0|    null|    null|    null|    null|    null|    null|    null|\n",
      "|3070802| 1963| 1096|   null|     US|     TX|    null|      1|  null|     2|  6|    63| null|       0|    null|   null|    null|    null|    null|    null|    null|    null|    null|\n",
      "|3070803| 1963| 1096|   null|     US|     IL|    null|      1|  null|     2|  6|    63| null|       9|    null| 0.3704|    null|    null|    null|    null|    null|    null|    null|\n",
      "|3070804| 1963| 1096|   null|     US|     OH|    null|      1|  null|     2|  6|    63| null|       3|    null| 0.6667|    null|    null|    null|    null|    null|    null|    null|\n",
      "|3070805| 1963| 1096|   null|     US|     CA|    null|      1|  null|     2|  6|    63| null|       1|    null|    0.0|    null|    null|    null|    null|    null|    null|    null|\n",
      "+-------+-----+-----+-------+-------+-------+--------+-------+------+------+---+------+-----+--------+--------+-------+--------+--------+--------+--------+--------+--------+--------+\n",
      "only showing top 5 rows\n",
      "\n"
     ]
    }
   ],
   "source": [
    "patents.show(5)"
   ]
  },
  {
   "cell_type": "markdown",
   "metadata": {},
   "source": [
    "Filter out the elements from patent database within the state sub-column having null value"
   ]
  },
  {
   "cell_type": "code",
   "execution_count": 8,
   "metadata": {},
   "outputs": [],
   "source": [
    "patent_nnull = patents.filter(\"POSTATE is not NULL\").select(\"PATENT\",\"POSTATE\")"
   ]
  },
  {
   "cell_type": "markdown",
   "metadata": {},
   "source": [
    "Selecting patent and state from patent database"
   ]
  },
  {
   "cell_type": "code",
   "execution_count": 9,
   "metadata": {},
   "outputs": [],
   "source": [
    "patent1 = patent_nnull.select(\"PATENT\",\"POSTATE\")"
   ]
  },
  {
   "cell_type": "markdown",
   "metadata": {},
   "source": [
    "Selecting Cited and Citing from the citations database"
   ]
  },
  {
   "cell_type": "code",
   "execution_count": 10,
   "metadata": {},
   "outputs": [],
   "source": [
    "citations1 = citations.select('CITED','CITING')"
   ]
  },
  {
   "cell_type": "markdown",
   "metadata": {},
   "source": [
    "Join citation1 and patent1 database from the one selected above on basis of cited and patent in ascending order of cited and save in variable group1"
   ]
  },
  {
   "cell_type": "code",
   "execution_count": 11,
   "metadata": {},
   "outputs": [],
   "source": [
    "group1 = citations1.join(patent1, patent1.PATENT == citations1.CITED).orderBy('CITED',ascending = True).select('CITED','POSTATE','CITING')"
   ]
  },
  {
   "cell_type": "markdown",
   "metadata": {},
   "source": [
    "Rename Cited as Cited1, Postate as Postate1 and Citing as Citing1  "
   ]
  },
  {
   "cell_type": "code",
   "execution_count": 12,
   "metadata": {},
   "outputs": [],
   "source": [
    "rename1 = group1.selectExpr(\"CITED as CITED1\", \"POSTATE as POSTATE1\", \"CITING as CITING1\")"
   ]
  },
  {
   "cell_type": "markdown",
   "metadata": {},
   "source": [
    "Join citation1 and patent1 database from the one selected above on basis of citing and patent in ascending order of cited and save in variable group2"
   ]
  },
  {
   "cell_type": "code",
   "execution_count": 13,
   "metadata": {},
   "outputs": [],
   "source": [
    "group2 = citations1.join(patent1, patent1.PATENT == citations1.CITING).select('CITING','POSTATE','PATENT','CITED')"
   ]
  },
  {
   "cell_type": "markdown",
   "metadata": {},
   "source": [
    "Create an intermediate table from rename1 datasets and patent1 datasets and arrange it in ascending order of Cited1."
   ]
  },
  {
   "cell_type": "code",
   "execution_count": 14,
   "metadata": {},
   "outputs": [],
   "source": [
    "inter = rename1.join(patent1,patent1.PATENT == rename1.CITING1).orderBy('CITED1',ascending = True).select('CITED1','POSTATE1','CITING1','POSTATE')"
   ]
  },
  {
   "cell_type": "code",
   "execution_count": 15,
   "metadata": {},
   "outputs": [
    {
     "name": "stdout",
     "output_type": "stream",
     "text": [
      "+-------+--------+-------+-------+\n",
      "| CITED1|POSTATE1|CITING1|POSTATE|\n",
      "+-------+--------+-------+-------+\n",
      "|3070804|      OH|4694843|     OH|\n",
      "|3070808|      IA|4731077|     IA|\n",
      "|3070811|      CA|4407027|     CA|\n",
      "|3070811|      CA|5533214|     CA|\n",
      "|3070811|      CA|4385407|     CA|\n",
      "+-------+--------+-------+-------+\n",
      "only showing top 5 rows\n",
      "\n"
     ]
    }
   ],
   "source": [
    "inter.filter(inter.POSTATE1 == inter.POSTATE).orderBy('CITED1',ascending = True).show(5)"
   ]
  },
  {
   "cell_type": "markdown",
   "metadata": {},
   "source": [
    "Now we iterate the count when state matches for each patent and print it out and store it in the count  i.e. count stands for same state citations."
   ]
  },
  {
   "cell_type": "code",
   "execution_count": 32,
   "metadata": {},
   "outputs": [],
   "source": [
    "count = inter.filter(inter.POSTATE1 == inter.POSTATE).groupBy('CITED1').count().orderBy('CITED1',ascending = True).select('CITED1','count')"
   ]
  },
  {
   "cell_type": "markdown",
   "metadata": {},
   "source": [
    "Now, we join the patents table with the count table and arrange it in descending order of the count and show top 10 count of the same state citations"
   ]
  },
  {
   "cell_type": "code",
   "execution_count": 33,
   "metadata": {},
   "outputs": [
    {
     "name": "stdout",
     "output_type": "stream",
     "text": [
      "+-------+-----+-----+-------+-------+-------+--------+-------+------+------+---+------+-----+--------+--------+-------+--------+--------+--------+--------+--------+--------+--------+-----+\n",
      "| PATENT|GYEAR|GDATE|APPYEAR|COUNTRY|POSTATE|ASSIGNEE|ASSCODE|CLAIMS|NCLASS|CAT|SUBCAT|CMADE|CRECEIVE|RATIOCIT|GENERAL|ORIGINAL|FWDAPLAG|BCKGTLAG|SELFCTUB|SELFCTLB|SECDUPBD|SECDLWBD|count|\n",
      "+-------+-----+-----+-------+-------+-------+--------+-------+------+------+---+------+-----+--------+--------+-------+--------+--------+--------+--------+--------+--------+--------+-----+\n",
      "|3845770| 1974| 5422|   1972|     US|     CA|   22715|      2|  null|   424|  3|    31| null|     339|    null| 0.5152|    null| 17.0118|    null|    null|    null|  0.7818|  0.7611|  268|\n",
      "|5111638| 1992|11820|   1991|     US|     IL|  251075|      2|    16|    53|  6|    68|   39|     254|  0.4872| 0.6286|  0.7867|  4.3307| 32.0256|  0.1818|  0.0513|  0.1633|  0.1614|  247|\n",
      "|4733521| 1988|10315|   1986|     US|     IL|  251075|      2|    16|    53|  6|    68|   24|     236|     0.5| 0.7189|    0.75|  8.6737| 30.9167|     0.0|     0.0|  0.2684|  0.2627|  224|\n",
      "|4773182| 1988|10497|   1987|     US|     IL|  251075|      2|    10|    47|  6|    61|   27|     225|  0.5556| 0.7597|  0.8178|  7.6444| 29.4444|  0.1667|   0.037|  0.2968|  0.2889|  215|\n",
      "|4683195| 1987|10070|   1986|     US|     CA|   97235|      2|    26|   435|  3|    33|    1|     631|     1.0| 0.3464|     0.0|  7.8494|     4.0|     0.0|     0.0|  0.0183|  0.0174|  213|\n",
      "|4418068| 1983| 8733|   1981|     US|     IN|  170335|      2|    62|   514|  3|    31|    7|     225|     1.0| 0.3028|  0.6939| 14.1467|  5.7143|  0.4286|  0.4286|  0.9372|  0.9289|  208|\n",
      "|4133814| 1979| 6948|   1976|     US|     IN|  170335|      2|    10|   548|  1|    14|    4|     219|     1.0|  0.316|     0.5| 18.9543|     2.5|     0.0|     0.0|  0.9495|  0.9452|  207|\n",
      "|3916899| 1975| 5786|   1974|     US|     CA|   22715|      2|    36|   424|  3|    31|    1|     231|     1.0| 0.3987|     0.0|  15.684|     1.0|     1.0|     1.0|  0.8438|  0.8182|  198|\n",
      "|4683202| 1987|10070|   1985|     US|     CA|   97235|      2|    21|   435|  3|    33|    0|     605|    null| 0.3529|    null|  8.8843|    null|    null|    null|  0.0157|  0.0149|  188|\n",
      "|4216620| 1980| 7529|   1976|     US|     IL|  251075|      2|     5|    47|  6|    61|    7|     197|     0.0| 0.7048|    null|  18.269| 51.5714|     0.0|     0.0|  0.2957|  0.2792|  184|\n",
      "+-------+-----+-----+-------+-------+-------+--------+-------+------+------+---+------+-----+--------+--------+-------+--------+--------+--------+--------+--------+--------+--------+-----+\n",
      "only showing top 10 rows\n",
      "\n"
     ]
    }
   ],
   "source": [
    "patents.join(count, count.CITED1 == patents.PATENT).orderBy('count', ascending = False).select('PATENT','GYEAR','GDATE','APPYEAR','COUNTRY','POSTATE','ASSIGNEE','ASSCODE','CLAIMS','NCLASS','CAT','SUBCAT','CMADE','CRECEIVE','RATIOCIT','GENERAL','ORIGINAL','FWDAPLAG','BCKGTLAG','SELFCTUB','SELFCTLB','SECDUPBD','SECDLWBD','count').show(10)  "
   ]
  },
  {
   "cell_type": "markdown",
   "metadata": {},
   "source": [
    "Now, we join the patents table with the count table and arrange it in ascending order of the patents"
   ]
  },
  {
   "cell_type": "code",
   "execution_count": 25,
   "metadata": {},
   "outputs": [
    {
     "name": "stdout",
     "output_type": "stream",
     "text": [
      "+-------+-----+-----+-------+-------+-------+--------+-------+------+------+---+------+-----+--------+--------+-------+--------+--------+--------+--------+--------+--------+--------+-----+\n",
      "| PATENT|GYEAR|GDATE|APPYEAR|COUNTRY|POSTATE|ASSIGNEE|ASSCODE|CLAIMS|NCLASS|CAT|SUBCAT|CMADE|CRECEIVE|RATIOCIT|GENERAL|ORIGINAL|FWDAPLAG|BCKGTLAG|SELFCTUB|SELFCTLB|SECDUPBD|SECDLWBD|count|\n",
      "+-------+-----+-----+-------+-------+-------+--------+-------+------+------+---+------+-----+--------+--------+-------+--------+--------+--------+--------+--------+--------+--------+-----+\n",
      "|3070804| 1963| 1096|   null|     US|     OH|    null|      1|  null|     2|  6|    63| null|       3|    null| 0.6667|    null|    null|    null|    null|    null|    null|    null|    1|\n",
      "|3070808| 1963| 1096|   null|     US|     IA|    null|      1|  null|   623|  3|    39| null|       4|    null|  0.375|    null|    null|    null|    null|    null|    null|    null|    1|\n",
      "|3070811| 1963| 1096|   null|     US|     CA|    null|      1|  null|     4|  6|    65| null|       8|    null|    0.0|    null|    null|    null|    null|    null|    null|    null|    4|\n",
      "|3070813| 1963| 1096|   null|     US|     NY|    null|      1|  null|     5|  6|    65| null|       2|    null|    0.0|    null|    null|    null|    null|    null|    null|    null|    1|\n",
      "|3070814| 1963| 1096|   null|     US|     MN|    null|      2|  null|   267|  5|    59| null|       2|    null|    0.5|    null|    null|    null|    null|    null|    null|    null|    1|\n",
      "|3070824| 1963| 1096|   null|     US|     IL|    null|      1|  null|   401|  1|    12| null|       5|    null|   0.48|    null|    null|    null|    null|    null|    null|    null|    3|\n",
      "|3070825| 1963| 1096|   null|     US|     IL|    null|      1|  null|   401|  1|    12| null|       7|    null| 0.6531|    null|    null|    null|    null|    null|    null|    null|    4|\n",
      "|3070827| 1963| 1096|   null|     US|     CA|    null|      4|  null|   401|  1|    12| null|       2|    null|    0.5|    null|    null|    null|    null|    null|    null|    null|    2|\n",
      "|3070832| 1963| 1096|   null|     US|     LA|    null|      2|  null|   452|  6|    61| null|       1|    null|    0.0|    null|    null|    null|    null|    null|    null|    null|    1|\n",
      "|3070833| 1963| 1096|   null|     US|     LA|    null|      1|  null|   452|  6|    61| null|       5|    null|    0.0|    null|    null|    null|    null|    null|    null|    null|    1|\n",
      "+-------+-----+-----+-------+-------+-------+--------+-------+------+------+---+------+-----+--------+--------+-------+--------+--------+--------+--------+--------+--------+--------+-----+\n",
      "only showing top 10 rows\n",
      "\n"
     ]
    }
   ],
   "source": [
    "patents.join(count, count.CITED1 == patents.PATENT).orderBy('PATENT', ascending = True).select('PATENT','GYEAR','GDATE','APPYEAR','COUNTRY','POSTATE','ASSIGNEE','ASSCODE','CLAIMS','NCLASS','CAT','SUBCAT','CMADE','CRECEIVE','RATIOCIT','GENERAL','ORIGINAL','FWDAPLAG','BCKGTLAG','SELFCTUB','SELFCTLB','SECDUPBD','SECDLWBD','count').show(10)  "
   ]
  },
  {
   "cell_type": "code",
   "execution_count": null,
   "metadata": {},
   "outputs": [],
   "source": []
  }
 ],
 "metadata": {
  "kernelspec": {
   "display_name": "Python 3",
   "language": "python",
   "name": "python3"
  },
  "language_info": {
   "codemirror_mode": {
    "name": "ipython",
    "version": 3
   },
   "file_extension": ".py",
   "mimetype": "text/x-python",
   "name": "python",
   "nbconvert_exporter": "python",
   "pygments_lexer": "ipython3",
   "version": "3.6.7"
  }
 },
 "nbformat": 4,
 "nbformat_minor": 2
}
